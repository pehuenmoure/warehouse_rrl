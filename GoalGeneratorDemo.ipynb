{
 "cells": [
  {
   "cell_type": "markdown",
   "metadata": {},
   "source": [
    "## Goal Generator"
   ]
  },
  {
   "cell_type": "code",
   "execution_count": 1,
   "metadata": {},
   "outputs": [],
   "source": [
    "%load_ext autoreload\n",
    "%autoreload 2"
   ]
  },
  {
   "cell_type": "code",
   "execution_count": 2,
   "metadata": {},
   "outputs": [],
   "source": [
    "class AlternatingGoalGenerator():\n",
    "    def __init__(self, base_goal_loc_map, next_goal_loc_map):\n",
    "        self.base_goal_loc_map = base_goal_loc_map\n",
    "        self.next_goal_loc_map = next_goal_loc_map\n",
    "        self.is_env_set = False\n",
    "        self.env = None \n",
    "        \n",
    "    def get_new_location(self, agent_id):\n",
    "        if not self.is_env_set:\n",
    "            raise ValueError(\"Env is not set yet.\")\n",
    "        \n",
    "        agent_loc = self.env.agent_state[agent_id]\n",
    "        goal_loc = self.env.agent_goal[agent_id]\n",
    "        next_goal_loc = self.next_goal_loc_map[goal_loc]\n",
    "        \n",
    "        return next_goal_loc\n",
    "    \n",
    "    def get_reset_location(self, agent_id):\n",
    "        next_goal_loc = self.base_goal_loc_map[agent_id]\n",
    "        return next_goal_loc\n",
    "        \n",
    "    def set_env(self, env):\n",
    "        self.env = env\n",
    "        self.is_env_set = True\n"
   ]
  },
  {
   "cell_type": "code",
   "execution_count": 3,
   "metadata": {},
   "outputs": [
    {
     "data": {
      "image/png": "[encoded data removed]",
      "text/plain": [
       "<PIL.Image.Image image mode=RGBA size=400x400 at 0x7FFD148891D0>"
      ]
     },
     "execution_count": 3,
     "metadata": {},
     "output_type": "execute_result"
    }
   ],
   "source": [
    "from warehouse_env.warehouse_env import WarehouseEnv\n",
    "import numpy as np\n",
    "\n",
    "env_shape = (10,10)\n",
    "\n",
    "small_world = np.zeros(env_shape)\n",
    "small_world[3:9, 3:7] = 1\n",
    "small_agent= np.zeros(env_shape)\n",
    "small_agent[7:, 0:3] = 1\n",
    "\n",
    "base_goal_loc_map = {\n",
    "    0: (8,8),\n",
    "    1: (8,8),\n",
    "    2: (8,8),\n",
    "    3: (8,8),\n",
    "    4: (8,8),\n",
    "    5: (8,8),\n",
    "    6: (8,8),\n",
    "    7: (8,8),\n",
    "    8: (8,8),\n",
    "    9: (8,8),\n",
    "}\n",
    "next_goal_loc_map = {\n",
    "    (8,8): (8,1),\n",
    "    (8,1): (8,8)\n",
    "}\n",
    "\n",
    "goal_generator = AlternatingGoalGenerator(base_goal_loc_map, next_goal_loc_map)\n",
    "\n",
    "small_env = WarehouseEnv(agent_map=np.array(small_agent), obstacle_map=np.array(small_world), \n",
    "                        local_obseration_size=(9,7), render_as_observation=True,\n",
    "                        goal_generator=goal_generator,\n",
    "                        delta_tolling=True,\n",
    "                        delta_tolling_r=0.5,\n",
    "                        delta_tolling_b=4.0)\n",
    "\n",
    "small_env.render(zoom_size=40, local=False, draw_grid=True)"
   ]
  },
  {
   "cell_type": "code",
   "execution_count": 4,
   "metadata": {},
   "outputs": [
    {
     "data": {
      "image/png": "[encoded data removed]",
      "text/plain": [
       "<PIL.Image.Image image mode=RGBA size=360x280 at 0x7FFD12BD3C18>"
      ]
     },
     "execution_count": 4,
     "metadata": {},
     "output_type": "execute_result"
    }
   ],
   "source": [
    "small_env.render(zoom_size=40, local=True, draw_grid=True)"
   ]
  },
  {
   "cell_type": "code",
   "execution_count": 5,
   "metadata": {},
   "outputs": [],
   "source": [
    "from od_mstar3 import cpp_mstar\n",
    "import networkx as nx\n",
    "\n",
    "def get_next_action(env, env_graph, coordinated_planner=False):\n",
    "    if coordinated_planner:\n",
    "        states = [(v[0], v[1]) for k, v in env.agent_state.items()]\n",
    "        goals = [(v[0], v[1]) for k, v in env.agent_goal.items()]\n",
    "        path = None\n",
    "        start_x, start_y = None, None\n",
    "        next_x, next_y = None, None\n",
    "\n",
    "        try:\n",
    "            path = cpp_mstar.find_path(env.obstacle_map, states, goals, 10, 5 * 60.0)\n",
    "\n",
    "            start_x, start_y = env.agent_state[env.current_agent_id]\n",
    "            next_x, next_y = path[1][env.current_agent_id]   \n",
    "        except:\n",
    "            coordinated_planner = False\n",
    "\n",
    "    if not coordinated_planner:\n",
    "        location = env.agent_state[env.current_agent_id]\n",
    "        goal = env.agent_goal[env.current_agent_id]\n",
    "\n",
    "        path = nx.astar_path(env_graph, (location[0], location[1]), \n",
    "                             (goal[0], goal[1]), weight='weight')\n",
    "\n",
    "        action = None\n",
    "        start_x, start_y = path[0]\n",
    "        next_x, next_y = path[1]\n",
    "        \n",
    "    if (start_y + 1)  == next_y:\n",
    "        return_val = 0\n",
    "    elif (start_y - 1) == next_y:\n",
    "        return_val = 2\n",
    "    elif (start_x - 1) == next_x:\n",
    "        return_val = 1\n",
    "    elif (start_x + 1) == next_x:\n",
    "        return_val = 3\n",
    "    else:\n",
    "        return_val = 4\n",
    "    \n",
    "    return return_val"
   ]
  },
  {
   "cell_type": "code",
   "execution_count": 64,
   "metadata": {},
   "outputs": [],
   "source": [
    "# Oscillating Goal Generator\n",
    "small_env.delta_tolling = True\n",
    "observation = small_env.reset()\n",
    "frames = []\n",
    "old_tolls = {}\n",
    "for t in range(10000):\n",
    "    frames.append(small_env.render(zoom_size=40, agent_id=None, draw_grid=True, local=False))\n",
    "    action = get_next_action(small_env, small_env.env_graph, coordinated_planner=False)\n",
    "    small_env.step(action)\n",
    "    old_tolls[t] = small_env.toll_map.copy()\n",
    "    \n",
    "frames[0].save('gif/goal_generator_animation_astar_10000.gif',\n",
    "               save_all=True, append_images=frames[1:], \n",
    "               optimize=False, duration=25, loop=0)"
   ]
  },
  {
   "cell_type": "code",
   "execution_count": 26,
   "metadata": {},
   "outputs": [],
   "source": [
    "#\n",
    "small_env.delta_tolling = False\n",
    "# Oscillating Goal Generator\n",
    "observation = small_env.reset()\n",
    "frames = []\n",
    "old_tolls = {}\n",
    "for t in range(1000):\n",
    "    frames.append(small_env.render(zoom_size=40, agent_id=None, draw_grid=True, local=False))\n",
    "    action = get_next_action(small_env, small_env.env_graph, coordinated_planner=False)\n",
    "    small_env.step(action)\n",
    "    old_tolls[t] = small_env.toll_map.copy()\n",
    "    \n",
    "frames[0].save('gif/goal_generator_animation_astar_dt=off_1000.gif',\n",
    "               save_all=True, append_images=frames[1:], \n",
    "               optimize=False, duration=25, loop=0)"
   ]
  },
  {
   "cell_type": "code",
   "execution_count": 28,
   "metadata": {},
   "outputs": [
    {
     "data": {
      "image/png": "[encoded data removed]",
      "text/plain": [
       "<PIL.Image.Image image mode=RGBA size=360x280 at 0x7FFD1E42D160>"
      ]
     },
     "execution_count": 28,
     "metadata": {},
     "output_type": "execute_result"
    }
   ],
   "source": [
    "small_env.render(zoom_size=40, agent_id=0, draw_grid=True, local=True)"
   ]
  },
  {
   "cell_type": "code",
   "execution_count": 37,
   "metadata": {},
   "outputs": [
    {
     "data": {
      "image/png": "[encoded data removed]",
      "text/plain": [
       "<PIL.Image.Image image mode=RGBA size=360x280 at 0x7FFD1E42D5F8>"
      ]
     },
     "execution_count": 37,
     "metadata": {},
     "output_type": "execute_result"
    }
   ],
   "source": [
    "small_env.render(zoom_size=40, agent_id=5, draw_grid=True, local=True)"
   ]
  },
  {
   "cell_type": "markdown",
   "metadata": {},
   "source": [
    "## RL Agent"
   ]
  },
  {
   "cell_type": "code",
   "execution_count": 6,
   "metadata": {},
   "outputs": [
    {
     "name": "stderr",
     "output_type": "stream",
     "text": [
      "/Users/pehuen/opt/anaconda3/envs/primal2/lib/python3.6/site-packages/tensorflow/python/framework/dtypes.py:523: FutureWarning: Passing (type, 1) or '1type' as a synonym of type is deprecated; in a future version of numpy, it will be understood as (type, (1,)) / '(1,)type'.\n",
      "  _np_qint8 = np.dtype([(\"qint8\", np.int8, 1)])\n",
      "/Users/pehuen/opt/anaconda3/envs/primal2/lib/python3.6/site-packages/tensorflow/python/framework/dtypes.py:524: FutureWarning: Passing (type, 1) or '1type' as a synonym of type is deprecated; in a future version of numpy, it will be understood as (type, (1,)) / '(1,)type'.\n",
      "  _np_quint8 = np.dtype([(\"quint8\", np.uint8, 1)])\n",
      "/Users/pehuen/opt/anaconda3/envs/primal2/lib/python3.6/site-packages/tensorflow/python/framework/dtypes.py:525: FutureWarning: Passing (type, 1) or '1type' as a synonym of type is deprecated; in a future version of numpy, it will be understood as (type, (1,)) / '(1,)type'.\n",
      "  _np_qint16 = np.dtype([(\"qint16\", np.int16, 1)])\n",
      "/Users/pehuen/opt/anaconda3/envs/primal2/lib/python3.6/site-packages/tensorflow/python/framework/dtypes.py:526: FutureWarning: Passing (type, 1) or '1type' as a synonym of type is deprecated; in a future version of numpy, it will be understood as (type, (1,)) / '(1,)type'.\n",
      "  _np_quint16 = np.dtype([(\"quint16\", np.uint16, 1)])\n",
      "/Users/pehuen/opt/anaconda3/envs/primal2/lib/python3.6/site-packages/tensorflow/python/framework/dtypes.py:527: FutureWarning: Passing (type, 1) or '1type' as a synonym of type is deprecated; in a future version of numpy, it will be understood as (type, (1,)) / '(1,)type'.\n",
      "  _np_qint32 = np.dtype([(\"qint32\", np.int32, 1)])\n",
      "/Users/pehuen/opt/anaconda3/envs/primal2/lib/python3.6/site-packages/tensorflow/python/framework/dtypes.py:532: FutureWarning: Passing (type, 1) or '1type' as a synonym of type is deprecated; in a future version of numpy, it will be understood as (type, (1,)) / '(1,)type'.\n",
      "  np_resource = np.dtype([(\"resource\", np.ubyte, 1)])\n"
     ]
    },
    {
     "name": "stdout",
     "output_type": "stream",
     "text": [
      "Loading a model without an environment, this model cannot be trained until it has a valid environment.\n",
      "self.processed_obs Tensor(\"input/truediv:0\", shape=(?, 28, 36, 3), dtype=float32)\n",
      "entities: Tensor(\"model/Reshape:0\", shape=(?, 825, 64), dtype=float32)\n",
      "layerNorm_mean (?, 825, 1)\n",
      "MHDPA_output Tensor(\"model/MatMul_1:0\", shape=(?, 2, 825, 64), dtype=float32)\n",
      "residual_output Tensor(\"model/residualNet/Add:0\", shape=(?, 2, 825, 64), dtype=float32)\n",
      "maxpooling_output Tensor(\"model/Max:0\", shape=(?, 2, 64), dtype=float32)\n",
      "self.processed_obs Tensor(\"train_model/input/truediv:0\", shape=(?, 28, 36, 3), dtype=float32)\n",
      "entities: Tensor(\"train_model/model/Reshape:0\", shape=(?, 825, 64), dtype=float32)\n",
      "layerNorm_mean (?, 825, 1)\n",
      "MHDPA_output Tensor(\"train_model/model/MatMul_1:0\", shape=(?, 2, 825, 64), dtype=float32)\n",
      "residual_output Tensor(\"train_model/model/residualNet/Add:0\", shape=(?, 2, 825, 64), dtype=float32)\n",
      "maxpooling_output Tensor(\"train_model/model/Max:0\", shape=(?, 2, 64), dtype=float32)\n"
     ]
    }
   ],
   "source": [
    "from stable_baselines import A2C, A2CWithExperts\n",
    "\n",
    "model_file = \"/Users/pehuen/Downloads/log_14\"\n",
    "a2c_model = A2C.load(model_file + \"/model.zip\")"
   ]
  },
  {
   "cell_type": "code",
   "execution_count": 38,
   "metadata": {},
   "outputs": [],
   "source": [
    "#\n",
    "small_env.delta_tolling = False\n",
    "# Oscillating Goal Generator\n",
    "observation = small_env.reset()\n",
    "frames = []\n",
    "old_tolls = {}\n",
    "for t in range(1000):\n",
    "    frames.append(small_env.render(zoom_size=40, agent_id=None, draw_grid=True, local=False))\n",
    "    action, _states = a2c_model.predict(small_env._observe())#agent_id=0))\n",
    "    small_env.step(action)\n",
    "    old_tolls[t] = small_env.toll_map.copy()\n",
    "    \n",
    "frames[0].save('gif/goal_generator_animation_rl_dt=off_1000.gif',\n",
    "               save_all=True, append_images=frames[1:], \n",
    "               optimize=False, duration=25, loop=0)\n"
   ]
  },
  {
   "cell_type": "code",
   "execution_count": 47,
   "metadata": {},
   "outputs": [],
   "source": [
    "#\n",
    "small_env.delta_tolling = True\n",
    "# Oscillating Goal Generator\n",
    "observation = small_env.reset()\n",
    "frames = []\n",
    "old_tolls = {}\n",
    "for t in range(1000):\n",
    "    frames.append(small_env.render(zoom_size=40, agent_id=None, draw_grid=True, local=False))\n",
    "    action, _states = a2c_model.predict(small_env._observe())#agent_id=0))\n",
    "    small_env.step(action)\n",
    "    old_tolls[t] = small_env.toll_map.copy()\n",
    "    \n",
    "frames[0].save('gif/goal_generator_animation_rl_dt=on_1000.gif',\n",
    "               save_all=True, append_images=frames[1:], \n",
    "               optimize=False, duration=25, loop=0)\n"
   ]
  },
  {
   "cell_type": "code",
   "execution_count": 50,
   "metadata": {},
   "outputs": [
    {
     "data": {
      "image/png": "[encoded data removed]",
      "text/plain": [
       "<PIL.Image.Image image mode=RGBA size=360x280 at 0x7FFD1B624D68>"
      ]
     },
     "execution_count": 50,
     "metadata": {},
     "output_type": "execute_result"
    }
   ],
   "source": [
    "small_env.render(zoom_size=40, agent_id=8, draw_grid=True, local=True)"
   ]
  },
  {
   "cell_type": "code",
   "execution_count": null,
   "metadata": {},
   "outputs": [],
   "source": []
  }
 ],
 "metadata": {
  "kernelspec": {
   "display_name": "primal2",
   "language": "python",
   "name": "primal2"
  },
  "language_info": {
   "codemirror_mode": {
    "name": "ipython",
    "version": 3
   },
   "file_extension": ".py",
   "mimetype": "text/x-python",
   "name": "python",
   "nbconvert_exporter": "python",
   "pygments_lexer": "ipython3",
   "version": "3.6.12"
  }
 },
 "nbformat": 4,
 "nbformat_minor": 4
}
