{
 "cells": [
  {
   "cell_type": "code",
   "execution_count": 1,
   "metadata": {},
   "outputs": [],
   "source": [
    "%load_ext autoreload\n",
    "%autoreload 2"
   ]
  },
  {
   "cell_type": "code",
   "execution_count": 27,
   "metadata": {},
   "outputs": [],
   "source": [
    "import gym\n",
    "import gym_boxworld\n",
    "env_name = 'BoxRandWorld'\n",
    "env_id = env_name + 'NoFrameskip-v4'\n",
    "env = gym.make(env_id,level='easy')"
   ]
  },
  {
   "cell_type": "code",
   "execution_count": 28,
   "metadata": {},
   "outputs": [],
   "source": [
    "observation, _, _, info = env.step(2)"
   ]
  },
  {
   "cell_type": "code",
   "execution_count": 34,
   "metadata": {},
   "outputs": [
    {
     "data": {
      "text/plain": [
       "((3, 6, 7),\n",
       " array([[[0, 1, 0, 0, 0, 0, 0],\n",
       "         [0, 0, 0, 0, 0, 0, 0],\n",
       "         [0, 0, 0, 0, 0, 0, 0],\n",
       "         [0, 0, 0, 0, 0, 0, 0],\n",
       "         [0, 0, 0, 0, 0, 0, 0],\n",
       "         [0, 0, 0, 0, 0, 0, 1]],\n",
       " \n",
       "        [[0, 0, 0, 0, 0, 3, 0],\n",
       "         [3, 0, 0, 0, 0, 0, 0],\n",
       "         [0, 0, 4, 0, 0, 0, 0],\n",
       "         [0, 0, 0, 0, 0, 0, 0],\n",
       "         [0, 0, 0, 0, 0, 0, 0],\n",
       "         [0, 0, 0, 4, 0, 0, 0]],\n",
       " \n",
       "        [[0, 0, 0, 0, 0, 0, 0],\n",
       "         [0, 0, 0, 1, 0, 0, 0],\n",
       "         [1, 0, 0, 0, 1, 0, 0],\n",
       "         [0, 0, 0, 1, 0, 0, 0],\n",
       "         [0, 0, 0, 0, 0, 0, 0],\n",
       "         [0, 0, 0, 0, 0, 0, 0]]]))"
      ]
     },
     "execution_count": 34,
     "metadata": {},
     "output_type": "execute_result"
    }
   ],
   "source": [
    "observation.shape, observation"
   ]
  },
  {
   "cell_type": "code",
   "execution_count": 30,
   "metadata": {},
   "outputs": [],
   "source": [
    "import gym\n",
    "import numpy as np\n",
    "from warehouse_env.warehouse_env import WarehouseEnv\n",
    "\n",
    "env_id = 'WarehouseEnv'\n",
    "\n",
    "simple_agent = \\\n",
    "         [[ 1,  0,  0,  0,  0,  2, 0],\n",
    "          [ 0,  0,  0,  0,  0,  0, 0],\n",
    "          [ 0,  0,  0,  0,  0,  0, 0],\n",
    "          [ 0,  0,  0,  0,  0,  0, 0],\n",
    "          [ 0,  0,  0,  0,  0,  0, 0],\n",
    "          [ 0,  0,  0,  3,  0,  0, 0]]\n",
    "simple_world = \\\n",
    "         [[  0,  0,  0,  0,  0,  0, 0],\n",
    "          [  0,  0,  0,  1,  0,  0, 0],\n",
    "          [  1,  0,  0,  0,  1,  0, 0],\n",
    "          [  0,  0,  0,  1,  0,  0, 0],\n",
    "          [  0,  0,  0,  0,  0,  0, 0],\n",
    "          [  0,  0,  0,  0,  0,  0, 0]]\n",
    "env = WarehouseEnv(agent_map=np.array(simple_agent), \n",
    "                       obstacle_map=np.array(simple_world))"
   ]
  },
  {
   "cell_type": "code",
   "execution_count": 31,
   "metadata": {},
   "outputs": [],
   "source": [
    "observation, _, _, _ = env.step(0)"
   ]
  },
  {
   "cell_type": "code",
   "execution_count": 43,
   "metadata": {},
   "outputs": [
    {
     "data": {
      "text/plain": [
       "((6, 7, 3), (3, 6, 7))"
      ]
     },
     "execution_count": 43,
     "metadata": {},
     "output_type": "execute_result"
    }
   ],
   "source": [
    "observation.transpose((1, 2, 0)).shape, observation.shape"
   ]
  },
  {
   "cell_type": "code",
   "execution_count": null,
   "metadata": {},
   "outputs": [],
   "source": []
  }
 ],
 "metadata": {
  "kernelspec": {
   "display_name": "tensorflow",
   "language": "python",
   "name": "tensorflow"
  },
  "language_info": {
   "codemirror_mode": {
    "name": "ipython",
    "version": 3
   },
   "file_extension": ".py",
   "mimetype": "text/x-python",
   "name": "python",
   "nbconvert_exporter": "python",
   "pygments_lexer": "ipython3",
   "version": "3.6.3"
  }
 },
 "nbformat": 4,
 "nbformat_minor": 4
}
