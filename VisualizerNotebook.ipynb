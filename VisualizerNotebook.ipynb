{
 "cells": [
  {
   "cell_type": "code",
   "execution_count": 1,
   "metadata": {},
   "outputs": [],
   "source": [
    "%load_ext autoreload\n",
    "%autoreload 2"
   ]
  },
  {
   "cell_type": "markdown",
   "metadata": {},
   "source": [
    "## Visualize Environment"
   ]
  },
  {
   "cell_type": "code",
   "execution_count": 58,
   "metadata": {},
   "outputs": [
    {
     "data": {
      "image/png": "[encoded data removed]",
      "text/plain": [
       "<PIL.Image.Image image mode=RGBA size=280x240 at 0x7FB3C6632F60>"
      ]
     },
     "execution_count": 58,
     "metadata": {},
     "output_type": "execute_result"
    }
   ],
   "source": [
    "from warehouse_env.warehouse_env import WarehouseEnv\n",
    "import numpy as np\n",
    "\n",
    "simple_agent = \\\n",
    "         [[ 1,  0,  0,  0,  0,  2, 0],\n",
    "          [ 0,  0,  0,  0,  0,  0, 0],\n",
    "          [ 0,  0,  0,  0,  0,  0, 0],\n",
    "          [ 0,  0,  0,  0,  0,  0, 0],\n",
    "          [ 0,  0,  0,  0,  0,  0, 0],\n",
    "          [ 0,  0,  0,  3,  0,  0, 0]]\n",
    "simple_world = \\\n",
    "         [[  0,  0,  0,  0,  0,  0, 0],\n",
    "          [  0,  0,  0,  1,  0,  0, 0],\n",
    "          [  1,  0,  0,  0,  1,  0, 0],\n",
    "          [  0,  0,  0,  1,  0,  0, 0],\n",
    "          [  0,  0,  0,  0,  0,  0, 0],\n",
    "          [  0,  0,  0,  0,  0,  0, 0]]\n",
    "env = WarehouseEnv(agent_map=np.array(simple_agent), obstacle_map=np.array(simple_world),\n",
    "                  local_obseration_size=(7,7))\n",
    "\n",
    "env.render(zoom_size=40, agent_id = None, local=False)"
   ]
  },
  {
   "cell_type": "code",
   "execution_count": 349,
   "metadata": {},
   "outputs": [
    {
     "data": {
      "image/png": "[encoded data removed]",
      "text/plain": [
       "<PIL.Image.Image image mode=RGBA size=280x240 at 0x7FE776D06438>"
      ]
     },
     "execution_count": 349,
     "metadata": {},
     "output_type": "execute_result"
    }
   ],
   "source": [
    "env.render(zoom_size=40, agent_id = None, local=False)"
   ]
  },
  {
   "cell_type": "code",
   "execution_count": null,
   "metadata": {},
   "outputs": [],
   "source": [
    "env.render(zoom_size=40, agent_id = None, local=False)"
   ]
  },
  {
   "cell_type": "markdown",
   "metadata": {},
   "source": [
    "## Visualize Graph using NetworkX"
   ]
  },
  {
   "cell_type": "code",
   "execution_count": 5,
   "metadata": {},
   "outputs": [
    {
     "data": {
      "image/png": "[encoded data removed]",
      "text/plain": [
       "<Figure size 432x288 with 1 Axes>"
      ]
     },
     "metadata": {},
     "output_type": "display_data"
    }
   ],
   "source": [
    "import networkx as nx\n",
    "\n",
    "def warehouse_to_graph(env):\n",
    "    w, h = env.agent_map.shape[0], env.agent_map.shape[1]\n",
    "    G = nx.grid_2d_graph(w, h)\n",
    "    H = G.to_directed()\n",
    "\n",
    "    obstacles = np.argwhere(env.obstacle_map > 0)\n",
    "    \n",
    "    _ = [H.remove_node((o[0], o[1])) for o in obstacles]\n",
    "    return H\n",
    "\n",
    "env_graph = warehouse_to_graph(env)\n",
    "pos = {(x,y): np.array([y, -x]) for x, y in env_graph.nodes}\n",
    "nx.draw(env_graph, pos, node_color=\"b\", node_size=30, with_labels=False)"
   ]
  },
  {
   "cell_type": "markdown",
   "metadata": {},
   "source": [
    "## Expert Trajectory Gifs"
   ]
  },
  {
   "cell_type": "code",
   "execution_count": 6,
   "metadata": {},
   "outputs": [],
   "source": [
    "from od_mstar3 import cpp_mstar\n",
    "\n",
    "def get_next_action(env, env_graph, coordinated_planner=False):\n",
    "    if coordinated_planner:\n",
    "        states = [(v[0], v[1]) for k, v in env.agent_state.items()]\n",
    "        goals = [(v[0], v[1]) for k, v in env.agent_goal.items()]\n",
    "        path = None\n",
    "        start_x, start_y = None, None\n",
    "        next_x, next_y = None, None\n",
    "\n",
    "        try:\n",
    "            path = cpp_mstar.find_path(env.obstacle_map, states, goals, 10, 5 * 60.0)\n",
    "\n",
    "            start_x, start_y = env.agent_state[env.current_agent_id]\n",
    "            next_x, next_y = path[1][env.current_agent_id]   \n",
    "        except:\n",
    "            coordinated_planner = False\n",
    "\n",
    "    if not coordinated_planner:\n",
    "        location = env.agent_state[env.current_agent_id]\n",
    "        goal = env.agent_goal[env.current_agent_id]\n",
    "\n",
    "        path = nx.astar_path(env_graph, (location[0], location[1]), (goal[0], goal[1]))\n",
    "\n",
    "        action = None\n",
    "        start_x, start_y = path[0]\n",
    "        next_x, next_y = path[1]\n",
    "        \n",
    "    if (start_y + 1)  == next_y:\n",
    "        return_val = 0\n",
    "    elif (start_y - 1) == next_y:\n",
    "        return_val = 2\n",
    "    elif (start_x - 1) == next_x:\n",
    "        return_val = 1\n",
    "    elif (start_x + 1) == next_x:\n",
    "        return_val = 3\n",
    "    else:\n",
    "        return_val = 4\n",
    "    \n",
    "    return return_val"
   ]
  },
  {
   "cell_type": "markdown",
   "metadata": {},
   "source": [
    "### Greedy A*"
   ]
  },
  {
   "cell_type": "code",
   "execution_count": 13,
   "metadata": {},
   "outputs": [],
   "source": [
    "#Run the env\n",
    "observation = env.reset()\n",
    "frames = []\n",
    "for t in range(200):\n",
    "    frames.append(env.render(zoom_size=40, agent_id=None))\n",
    "    action = get_next_action(env, env_graph, coordinated_planner=True)\n",
    "    env.step(action)\n",
    "\n",
    "frames[0].save('gif/gym_animation_mstar.gif',\n",
    "               save_all=True, append_images=frames[1:], \n",
    "               optimize=False, duration=125, loop=0)"
   ]
  },
  {
   "cell_type": "markdown",
   "metadata": {},
   "source": [
    "### ODrM*"
   ]
  },
  {
   "cell_type": "code",
   "execution_count": 22,
   "metadata": {},
   "outputs": [],
   "source": [
    "#Run the env\n",
    "observation = env.reset()\n",
    "frames = []\n",
    "for t in range(200):\n",
    "    frames.append(env.render(zoom_size=40, agent_id=None))\n",
    "    action = get_next_action(env, env_graph, coordinated_planner=False)\n",
    "    env.step(action)\n",
    "\n",
    "frames[0].save('gif/gym_animation_astar.gif',\n",
    "               save_all= True, append_images=frames[1:], \n",
    "               optimize=False, duration=125, loop=0)"
   ]
  },
  {
   "cell_type": "markdown",
   "metadata": {},
   "source": [
    "## Load a Saved Model and Predict Optimal Action"
   ]
  },
  {
   "cell_type": "code",
   "execution_count": 22,
   "metadata": {},
   "outputs": [
    {
     "name": "stdout",
     "output_type": "stream",
     "text": [
      "Loading a model without an environment, this model cannot be trained until it has a valid environment.\n",
      "self.processed_obs Tensor(\"input/truediv:0\", shape=(?, 28, 36, 3), dtype=float32)\n",
      "entities: Tensor(\"model/Reshape:0\", shape=(?, 825, 64), dtype=float32)\n",
      "layerNorm_mean (?, 825, 1)\n",
      "MHDPA_output Tensor(\"model/MatMul_1:0\", shape=(?, 2, 825, 64), dtype=float32)\n",
      "residual_output Tensor(\"model/residualNet/Add:0\", shape=(?, 2, 825, 64), dtype=float32)\n",
      "maxpooling_output Tensor(\"model/Max:0\", shape=(?, 2, 64), dtype=float32)\n",
      "self.processed_obs Tensor(\"train_model/input/truediv:0\", shape=(?, 28, 36, 3), dtype=float32)\n",
      "entities: Tensor(\"train_model/model/Reshape:0\", shape=(?, 825, 64), dtype=float32)\n",
      "layerNorm_mean (?, 825, 1)\n",
      "MHDPA_output Tensor(\"train_model/model/MatMul_1:0\", shape=(?, 2, 825, 64), dtype=float32)\n",
      "residual_output Tensor(\"train_model/model/residualNet/Add:0\", shape=(?, 2, 825, 64), dtype=float32)\n",
      "maxpooling_output Tensor(\"train_model/model/Max:0\", shape=(?, 2, 64), dtype=float32)\n"
     ]
    }
   ],
   "source": [
    "from stable_baselines import A2C, A2CWithExperts\n",
    "\n",
    "model_file = \"/Users/pehuen/Documents/ucla/classes/compRob/Relational_DRL/exp_result/WarehouseEnv_A2CE_RelationalPolicy/log_17\"\n",
    "model_file = \"/Users/pehuen/Downloads/log_14\"\n",
    "a2c_model = A2CWithExperts.load(model_file + \"/model.zip\")"
   ]
  },
  {
   "cell_type": "markdown",
   "metadata": {},
   "source": [
    "### Multiagent GIF"
   ]
  },
  {
   "cell_type": "code",
   "execution_count": 21,
   "metadata": {},
   "outputs": [],
   "source": [
    "#Run the env\n",
    "obs = model_env.reset()\n",
    "frames = []\n",
    "episode_rewards = 0.0\n",
    "states = a2c_model.initial_state\n",
    "actions = []\n",
    "\n",
    "for t in range(200):\n",
    "    frames.append(model_env.render(zoom_size=40, agent_id=None))\n",
    "    action, _states = a2c_model.predict(model_env._observe())#agent_id=0))\n",
    "    actions.append(action)\n",
    "    \n",
    "    obs, reward, done, info = model_env.step(action)#, agent_id=0)\n",
    "    \n",
    "    episode_rewards += reward\n",
    "\n",
    "frames[0].save('gif/gym_animation.gif',\n",
    "               save_all= True, append_images=frames[1:], \n",
    "               optimize=False, duration=125, loop=0)"
   ]
  },
  {
   "cell_type": "markdown",
   "metadata": {},
   "source": [
    "### Single Agent GIF"
   ]
  },
  {
   "cell_type": "code",
   "execution_count": null,
   "metadata": {},
   "outputs": [],
   "source": [
    "#Run the env\n",
    "obs = model_env.reset()\n",
    "frames = []\n",
    "episode_rewards = 0.0\n",
    "states = a2c_model.initial_state\n",
    "actions = []\n",
    "\n",
    "for t in range(200):\n",
    "    frames.append(model_env.render(zoom_size=40, agent_id=None))\n",
    "    action, _states = a2c_model.predict(model_env._observe(agent_id=0))\n",
    "    actions.append(action)\n",
    "    \n",
    "    obs, reward, done, info = model_env.step(action, agent_id=0)\n",
    "    \n",
    "    episode_rewards += reward\n",
    "\n",
    "frames[0].save('gif/gym_animation.gif',\n",
    "               save_all= True, append_images=frames[1:], \n",
    "               optimize=False, duration=125, loop=0)"
   ]
  },
  {
   "cell_type": "code",
   "execution_count": null,
   "metadata": {},
   "outputs": [],
   "source": []
  }
 ],
 "metadata": {
  "kernelspec": {
   "display_name": "primal2",
   "language": "python",
   "name": "primal2"
  },
  "language_info": {
   "codemirror_mode": {
    "name": "ipython",
    "version": 3
   },
   "file_extension": ".py",
   "mimetype": "text/x-python",
   "name": "python",
   "nbconvert_exporter": "python",
   "pygments_lexer": "ipython3",
   "version": "3.6.12"
  }
 },
 "nbformat": 4,
 "nbformat_minor": 4
}
