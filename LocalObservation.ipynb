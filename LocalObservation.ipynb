{
 "cells": [
  {
   "cell_type": "markdown",
   "metadata": {},
   "source": [
    "# Local Observations Demonstration"
   ]
  },
  {
   "cell_type": "code",
   "execution_count": 392,
   "metadata": {},
   "outputs": [],
   "source": [
    "from warehouse_env.warehouse_env import WarehouseEnv\n",
    "import numpy as np\n",
    "\n",
    "simple_agent = \\\n",
    "         [[ 0, 1,  0,  0,  0,  0,  2, 0, 0],\n",
    "          [ 0, 0,  0,  0,  0,  0,  0, 0, 0],\n",
    "          [ 0, 0,  0,  0,  0,  0,  0, 0, 0],\n",
    "          [ 0, 0,  0,  0,  3,  0,  0, 0, 0],\n",
    "          [ 0, 0,  0,  0,  0,  0,  0, 0, 0],\n",
    "          [ 0, 0,  0,  0,  0,  0,  0, 0, 0],\n",
    "          [ 0, 0,  0,  0,  4,  0,  0, 0, 5]]\n",
    "simple_world = \\\n",
    "         [[ 0, 0,  0,  0,  0,  0,  0, 0, 0],\n",
    "          [ 0, 0,  0,  0,  0,  0,  0, 0, 0],\n",
    "          [ 0, 0,  0,  0,  1,  0,  0, 0, 0],\n",
    "          [ 0, 1,  0,  0,  0,  1,  0, 0, 0],\n",
    "          [ 0, 0,  0,  0,  1,  0,  0, 0, 0],\n",
    "          [ 0, 0,  0,  0,  0,  0,  0, 0, 0],\n",
    "          [ 0, 0,  0,  0,  0,  0,  0, 0, 0]]\n",
    "model_env = WarehouseEnv(agent_map=np.array(simple_agent), obstacle_map=np.array(simple_world), \n",
    "                        local_obseration_size=5, render_as_observation=True)"
   ]
  },
  {
   "cell_type": "code",
   "execution_count": 393,
   "metadata": {},
   "outputs": [
    {
     "data": {
      "image/png": "[encoded data removed]",
      "text/plain": [
       "<PIL.Image.Image image mode=RGBA size=360x280 at 0x7FE772810710>"
      ]
     },
     "execution_count": 393,
     "metadata": {},
     "output_type": "execute_result"
    }
   ],
   "source": [
    "model_env.render(zoom_size=40, local=False)"
   ]
  },
  {
   "cell_type": "code",
   "execution_count": 344,
   "metadata": {},
   "outputs": [
    {
     "data": {
      "image/png": "[encoded data removed]",
      "text/plain": [
       "<PIL.Image.Image image mode=RGBA size=200x200 at 0x7FE776CD8DA0>"
      ]
     },
     "execution_count": 344,
     "metadata": {},
     "output_type": "execute_result"
    }
   ],
   "source": [
    "model_env.render(zoom_size=40, agent_id = 0, local=True)"
   ]
  },
  {
   "cell_type": "code",
   "execution_count": 345,
   "metadata": {},
   "outputs": [
    {
     "data": {
      "image/png": "[encoded data removed]",
      "text/plain": [
       "<PIL.Image.Image image mode=RGBA size=200x200 at 0x7FE77459B320>"
      ]
     },
     "execution_count": 345,
     "metadata": {},
     "output_type": "execute_result"
    }
   ],
   "source": [
    "model_env.render(zoom_size=40, agent_id = 1, local=True)"
   ]
  },
  {
   "cell_type": "code",
   "execution_count": 346,
   "metadata": {},
   "outputs": [
    {
     "data": {
      "image/png": "[encoded data removed]",
      "text/plain": [
       "<PIL.Image.Image image mode=RGBA size=200x200 at 0x7FE77459B978>"
      ]
     },
     "execution_count": 346,
     "metadata": {},
     "output_type": "execute_result"
    }
   ],
   "source": [
    "model_env.render(zoom_size=40, agent_id = 2, local=True)"
   ]
  },
  {
   "cell_type": "code",
   "execution_count": 347,
   "metadata": {},
   "outputs": [
    {
     "data": {
      "image/png": "[encoded data removed]",
      "text/plain": [
       "<PIL.Image.Image image mode=RGBA size=200x200 at 0x7FE77459BF60>"
      ]
     },
     "execution_count": 347,
     "metadata": {},
     "output_type": "execute_result"
    }
   ],
   "source": [
    "model_env.render(zoom_size=40, agent_id = 3, local=True)"
   ]
  },
  {
   "cell_type": "code",
   "execution_count": 394,
   "metadata": {},
   "outputs": [
    {
     "data": {
      "image/png": "[encoded data removed]",
      "text/plain": [
       "<PIL.Image.Image image mode=RGBA size=200x200 at 0x7FE7727E6828>"
      ]
     },
     "execution_count": 394,
     "metadata": {},
     "output_type": "execute_result"
    }
   ],
   "source": [
    "model_env.render(zoom_size=40, agent_id = 4, local=True)"
   ]
  },
  {
   "cell_type": "markdown",
   "metadata": {},
   "source": [
    "### Agents with the same goal location"
   ]
  },
  {
   "cell_type": "code",
   "execution_count": 351,
   "metadata": {},
   "outputs": [
    {
     "data": {
      "image/png": "[encoded data removed]",
      "text/plain": [
       "<PIL.Image.Image image mode=RGBA size=280x240 at 0x7FE776D02080>"
      ]
     },
     "execution_count": 351,
     "metadata": {},
     "output_type": "execute_result"
    }
   ],
   "source": [
    "from warehouse_env.warehouse_env import WarehouseEnv\n",
    "import numpy as np\n",
    "\n",
    "simple_agent = \\\n",
    "         [[ 1,  0,  0,  0,  0,  2, 0],\n",
    "          [ 0,  0,  0,  0,  0,  0, 0],\n",
    "          [ 0,  0,  0,  0,  0,  0, 0],\n",
    "          [ 0,  0,  0,  0,  0,  0, 0],\n",
    "          [ 0,  0,  0,  0,  0,  0, 0],\n",
    "          [ 0,  0,  0,  3,  0,  0, 0]]\n",
    "simple_world = \\\n",
    "         [[  0,  0,  0,  0,  0,  0, 0],\n",
    "          [  0,  0,  0,  1,  0,  0, 0],\n",
    "          [  1,  0,  0,  0,  1,  0, 0],\n",
    "          [  0,  0,  0,  1,  0,  0, 0],\n",
    "          [  0,  0,  0,  0,  0,  0, 0],\n",
    "          [  0,  0,  0,  0,  0,  0, 0]]\n",
    "# env = WarehouseEnv(agent_map=np.array(simple_agent), obstacle_map=np.array(simple_world),\n",
    "#                   local_obseration_size=7)\n",
    "\n",
    "env.render(zoom_size=40, agent_id = 2, local=True)"
   ]
  },
  {
   "cell_type": "code",
   "execution_count": 349,
   "metadata": {},
   "outputs": [
    {
     "data": {
      "image/png": "[encoded data removed]",
      "text/plain": [
       "<PIL.Image.Image image mode=RGBA size=280x240 at 0x7FE776D06438>"
      ]
     },
     "execution_count": 349,
     "metadata": {},
     "output_type": "execute_result"
    }
   ],
   "source": [
    "env.render(zoom_size=40, agent_id = None, local=False)"
   ]
  }
 ],
 "metadata": {
  "kernelspec": {
   "display_name": "primal2",
   "language": "python",
   "name": "primal2"
  },
  "language_info": {
   "codemirror_mode": {
    "name": "ipython",
    "version": 3
   },
   "file_extension": ".py",
   "mimetype": "text/x-python",
   "name": "python",
   "nbconvert_exporter": "python",
   "pygments_lexer": "ipython3",
   "version": "3.6.12"
  }
 },
 "nbformat": 4,
 "nbformat_minor": 4
}
