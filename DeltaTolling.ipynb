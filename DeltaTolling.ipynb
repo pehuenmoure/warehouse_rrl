{
 "cells": [
  {
   "cell_type": "markdown",
   "metadata": {},
   "source": [
    "## Delta-Tolling Demonstration\n",
    "Demonstration of scaling using local observation"
   ]
  },
  {
   "cell_type": "code",
   "execution_count": 3,
   "metadata": {},
   "outputs": [],
   "source": [
    "from warehouse_env.warehouse_env import WarehouseEnv\n",
    "import numpy as np\n",
    "\n",
    "num_agents = 40\n",
    "env_shape = (20,20)\n",
    "big_world = np.zeros(env_shape)\n",
    "big_agent = np.random.permutation([1] * num_agents + [0] * \n",
    "                                  (env_shape[0] * env_shape[1] - num_agents)).reshape(env_shape)\n",
    "big_env = WarehouseEnv(agent_map=np.array(big_agent), obstacle_map=np.array(big_world), \n",
    "                        local_obseration_size=(9,7), render_as_observation=True)"
   ]
  },
  {
   "cell_type": "code",
   "execution_count": 2,
   "metadata": {},
   "outputs": [
    {
     "data": {
      "image/png": "[encoded data removed]",
      "text/plain": [
       "<PIL.Image.Image image mode=RGBA size=800x800 at 0x7FA200A6EE48>"
      ]
     },
     "execution_count": 2,
     "metadata": {},
     "output_type": "execute_result"
    }
   ],
   "source": [
    "big_env.render(zoom_size=40, local=False)"
   ]
  },
  {
   "cell_type": "markdown",
   "metadata": {},
   "source": [
    "#### Global Delta-Tolling with Local A*"
   ]
  },
  {
   "cell_type": "code",
   "execution_count": 17,
   "metadata": {},
   "outputs": [],
   "source": [
    "from od_mstar3 import cpp_mstar\n",
    "import networkx as nx\n",
    "\n",
    "def get_next_action(env, env_graph, coordinated_planner=False):\n",
    "    if coordinated_planner:\n",
    "        states = [(v[0], v[1]) for k, v in env.agent_state.items()]\n",
    "        goals = [(v[0], v[1]) for k, v in env.agent_goal.items()]\n",
    "        path = None\n",
    "        start_x, start_y = None, None\n",
    "        next_x, next_y = None, None\n",
    "\n",
    "        try:\n",
    "            path = cpp_mstar.find_path(env.obstacle_map, states, goals, 10, 5 * 60.0)\n",
    "\n",
    "            start_x, start_y = env.agent_state[env.current_agent_id]\n",
    "            next_x, next_y = path[1][env.current_agent_id]   \n",
    "        except:\n",
    "            coordinated_planner = False\n",
    "\n",
    "    if not coordinated_planner:\n",
    "        location = env.agent_state[env.current_agent_id]\n",
    "        goal = env.agent_goal[env.current_agent_id]\n",
    "\n",
    "        path = nx.astar_path(env_graph, (location[0], location[1]), \n",
    "                             (goal[0], goal[1]), weight='weight')\n",
    "\n",
    "        action = None\n",
    "        start_x, start_y = path[0]\n",
    "        next_x, next_y = path[1]\n",
    "        \n",
    "    if (start_y + 1)  == next_y:\n",
    "        return_val = 0\n",
    "    elif (start_y - 1) == next_y:\n",
    "        return_val = 2\n",
    "    elif (start_x - 1) == next_x:\n",
    "        return_val = 1\n",
    "    elif (start_x + 1) == next_x:\n",
    "        return_val = 3\n",
    "    else:\n",
    "        return_val = 4\n",
    "    \n",
    "    return return_val"
   ]
  },
  {
   "cell_type": "code",
   "execution_count": 24,
   "metadata": {},
   "outputs": [],
   "source": [
    "#Run the env\n",
    "observation = big_env.reset()\n",
    "frames = []\n",
    "old_tolls = {}\n",
    "for t in range(1000):\n",
    "    frames.append(big_env.render(zoom_size=40, agent_id=None))\n",
    "    action = get_next_action(big_env, big_env.env_graph, coordinated_planner=False)\n",
    "    big_env.step(action)\n",
    "    old_tolls[t] = big_env.toll_map.copy()\n",
    "\n",
    "frames[0].save('gif/big_gym_animation_astar_1000.gif',\n",
    "               save_all=True, append_images=frames[1:], \n",
    "               optimize=False, duration=25, loop=0)"
   ]
  },
  {
   "cell_type": "markdown",
   "metadata": {},
   "source": [
    "#### Global Delta-Tolling with Local RL-Agent"
   ]
  },
  {
   "cell_type": "code",
   "execution_count": 4,
   "metadata": {},
   "outputs": [
    {
     "name": "stderr",
     "output_type": "stream",
     "text": [
      "/Users/pehuen/opt/anaconda3/envs/primal2/lib/python3.6/site-packages/tensorflow/python/framework/dtypes.py:523: FutureWarning: Passing (type, 1) or '1type' as a synonym of type is deprecated; in a future version of numpy, it will be understood as (type, (1,)) / '(1,)type'.\n",
      "  _np_qint8 = np.dtype([(\"qint8\", np.int8, 1)])\n",
      "/Users/pehuen/opt/anaconda3/envs/primal2/lib/python3.6/site-packages/tensorflow/python/framework/dtypes.py:524: FutureWarning: Passing (type, 1) or '1type' as a synonym of type is deprecated; in a future version of numpy, it will be understood as (type, (1,)) / '(1,)type'.\n",
      "  _np_quint8 = np.dtype([(\"quint8\", np.uint8, 1)])\n",
      "/Users/pehuen/opt/anaconda3/envs/primal2/lib/python3.6/site-packages/tensorflow/python/framework/dtypes.py:525: FutureWarning: Passing (type, 1) or '1type' as a synonym of type is deprecated; in a future version of numpy, it will be understood as (type, (1,)) / '(1,)type'.\n",
      "  _np_qint16 = np.dtype([(\"qint16\", np.int16, 1)])\n",
      "/Users/pehuen/opt/anaconda3/envs/primal2/lib/python3.6/site-packages/tensorflow/python/framework/dtypes.py:526: FutureWarning: Passing (type, 1) or '1type' as a synonym of type is deprecated; in a future version of numpy, it will be understood as (type, (1,)) / '(1,)type'.\n",
      "  _np_quint16 = np.dtype([(\"quint16\", np.uint16, 1)])\n",
      "/Users/pehuen/opt/anaconda3/envs/primal2/lib/python3.6/site-packages/tensorflow/python/framework/dtypes.py:527: FutureWarning: Passing (type, 1) or '1type' as a synonym of type is deprecated; in a future version of numpy, it will be understood as (type, (1,)) / '(1,)type'.\n",
      "  _np_qint32 = np.dtype([(\"qint32\", np.int32, 1)])\n",
      "/Users/pehuen/opt/anaconda3/envs/primal2/lib/python3.6/site-packages/tensorflow/python/framework/dtypes.py:532: FutureWarning: Passing (type, 1) or '1type' as a synonym of type is deprecated; in a future version of numpy, it will be understood as (type, (1,)) / '(1,)type'.\n",
      "  np_resource = np.dtype([(\"resource\", np.ubyte, 1)])\n"
     ]
    },
    {
     "name": "stdout",
     "output_type": "stream",
     "text": [
      "Loading a model without an environment, this model cannot be trained until it has a valid environment.\n",
      "self.processed_obs Tensor(\"input/truediv:0\", shape=(?, 28, 36, 3), dtype=float32)\n",
      "entities: Tensor(\"model/Reshape:0\", shape=(?, 825, 64), dtype=float32)\n",
      "layerNorm_mean (?, 825, 1)\n",
      "MHDPA_output Tensor(\"model/MatMul_1:0\", shape=(?, 2, 825, 64), dtype=float32)\n",
      "residual_output Tensor(\"model/residualNet/Add:0\", shape=(?, 2, 825, 64), dtype=float32)\n",
      "maxpooling_output Tensor(\"model/Max:0\", shape=(?, 2, 64), dtype=float32)\n",
      "self.processed_obs Tensor(\"train_model/input/truediv:0\", shape=(?, 28, 36, 3), dtype=float32)\n",
      "entities: Tensor(\"train_model/model/Reshape:0\", shape=(?, 825, 64), dtype=float32)\n",
      "layerNorm_mean (?, 825, 1)\n",
      "MHDPA_output Tensor(\"train_model/model/MatMul_1:0\", shape=(?, 2, 825, 64), dtype=float32)\n",
      "residual_output Tensor(\"train_model/model/residualNet/Add:0\", shape=(?, 2, 825, 64), dtype=float32)\n",
      "maxpooling_output Tensor(\"train_model/model/Max:0\", shape=(?, 2, 64), dtype=float32)\n"
     ]
    }
   ],
   "source": [
    "from stable_baselines import A2C, A2CWithExperts\n",
    "\n",
    "model_file = \"/Users/pehuen/Downloads/log_14\"\n",
    "a2c_model = A2C.load(model_file + \"/model.zip\")"
   ]
  },
  {
   "cell_type": "code",
   "execution_count": 5,
   "metadata": {},
   "outputs": [],
   "source": [
    "from warehouse_env.warehouse_env import WarehouseEnv\n",
    "import numpy as np\n",
    "\n",
    "num_agents = 4\n",
    "env_shape = (20,20)\n",
    "big_world = np.zeros(env_shape)\n",
    "big_sparse_agent = np.random.permutation([1] * num_agents + [0] * \n",
    "                                  (env_shape[0] * env_shape[1] - num_agents)).reshape(env_shape)\n",
    "big_sparse_env = WarehouseEnv(agent_map=np.array(big_sparse_agent), obstacle_map=np.array(big_world), \n",
    "                        local_obseration_size=(9,7), render_as_observation=True)"
   ]
  },
  {
   "cell_type": "code",
   "execution_count": 50,
   "metadata": {},
   "outputs": [
    {
     "data": {
      "image/png": "[encoded data removed]",
      "text/plain": [
       "<PIL.Image.Image image mode=RGBA size=800x800 at 0x7FB321CE3780>"
      ]
     },
     "execution_count": 50,
     "metadata": {},
     "output_type": "execute_result"
    }
   ],
   "source": [
    "big_sparse_env.render(zoom_size=40, local=False)"
   ]
  },
  {
   "cell_type": "code",
   "execution_count": 52,
   "metadata": {},
   "outputs": [],
   "source": [
    "#Run the env\n",
    "obs = big_sparse_env.reset()\n",
    "frames = []\n",
    "episode_rewards = 0.0\n",
    "states = a2c_model.initial_state\n",
    "actions = []\n",
    "old_tolls = {}\n",
    "\n",
    "for t in range(1000):\n",
    "    frames.append(big_sparse_env.render(zoom_size=40, agent_id=None, local=False))\n",
    "    action, _states = a2c_model.predict(big_sparse_env._observe())#agent_id=0))\n",
    "    actions.append(action)\n",
    "    \n",
    "    obs, reward, done, info = big_sparse_env.step(action)#, agent_id=0)\n",
    "    \n",
    "    episode_rewards += reward\n",
    "\n",
    "    old_tolls[t] = big_sparse_env.toll_map.copy()\n",
    "\n",
    "frames[0].save('gif/big_sparse_gym_animation_relational_astar_1000.gif',\n",
    "               save_all=True, append_images=frames[1:], \n",
    "               optimize=False, duration=125, loop=0)"
   ]
  },
  {
   "cell_type": "code",
   "execution_count": 39,
   "metadata": {},
   "outputs": [],
   "source": [
    "#Run the env\n",
    "obs = big_env.reset()\n",
    "frames = []\n",
    "episode_rewards = 0.0\n",
    "states = a2c_model.initial_state\n",
    "actions = []\n",
    "old_tolls = {}\n",
    "\n",
    "for t in range(1000):\n",
    "    frames.append(big_env.render(zoom_size=40, agent_id=None, local=False))\n",
    "    action, _states = a2c_model.predict(big_env._observe())#agent_id=0))\n",
    "    actions.append(action)\n",
    "    \n",
    "    obs, reward, done, info = big_env.step(action)#, agent_id=0)\n",
    "    \n",
    "    episode_rewards += reward\n",
    "\n",
    "    old_tolls[t] = big_env.toll_map.copy()\n",
    "\n",
    "frames[0].save('gif/big_gym_animation_relational_astar_1000.gif',\n",
    "               save_all=True, append_images=frames[1::40], \n",
    "               optimize=False, duration=15, loop=0)"
   ]
  },
  {
   "cell_type": "markdown",
   "metadata": {},
   "source": [
    "### Large Congested Environment"
   ]
  },
  {
   "cell_type": "code",
   "execution_count": 29,
   "metadata": {},
   "outputs": [
    {
     "data": {
      "image/png": "[encoded data removed]",
      "text/plain": [
       "<PIL.Image.Image image mode=RGBA size=400x400 at 0x7FA20B4A6BE0>"
      ]
     },
     "execution_count": 29,
     "metadata": {},
     "output_type": "execute_result"
    }
   ],
   "source": [
    "from warehouse_env.warehouse_env import WarehouseEnv\n",
    "import numpy as np\n",
    "\n",
    "num_agents = 30\n",
    "percent_obstacles = 0.5\n",
    "env_shape = (10,10)\n",
    "num_obstacles = int(percent_obstacles * (env_shape[0] * env_shape[1]))\n",
    "\n",
    "# small_world = np.random.permutation([1] * num_obstacles + [0] * \n",
    "#                                   (env_shape[0] * env_shape[1] - num_obstacles)).reshape(env_shape)\n",
    "small_world = np.zeros(env_shape)\n",
    "small_world[2:8, 2:8] = 1\n",
    "\n",
    "i,j = np.where(small_world == 0)\n",
    "ix = np.random.choice(len(i), num_agents, replace=False)\n",
    "small_agent = np.zeros(env_shape)\n",
    "small_agent[i[ix], j[ix]] = 1\n",
    "small_env = WarehouseEnv(agent_map=np.array(small_agent), obstacle_map=np.array(small_world), \n",
    "                        local_obseration_size=(9,7), render_as_observation=True)\n",
    "\n",
    "small_env.render(zoom_size=40, local=False)"
   ]
  },
  {
   "cell_type": "code",
   "execution_count": 30,
   "metadata": {},
   "outputs": [
    {
     "data": {
      "image/png": "[encoded data removed]",
      "text/plain": [
       "<PIL.Image.Image image mode=RGBA size=360x280 at 0x7FA20970FA20>"
      ]
     },
     "execution_count": 30,
     "metadata": {},
     "output_type": "execute_result"
    }
   ],
   "source": [
    "small_env.render(zoom_size=40, local=True)"
   ]
  },
  {
   "cell_type": "code",
   "execution_count": null,
   "metadata": {},
   "outputs": [],
   "source": []
  }
 ],
 "metadata": {
  "kernelspec": {
   "display_name": "primal2",
   "language": "python",
   "name": "primal2"
  },
  "language_info": {
   "codemirror_mode": {
    "name": "ipython",
    "version": 3
   },
   "file_extension": ".py",
   "mimetype": "text/x-python",
   "name": "python",
   "nbconvert_exporter": "python",
   "pygments_lexer": "ipython3",
   "version": "3.6.12"
  }
 },
 "nbformat": 4,
 "nbformat_minor": 4
}
