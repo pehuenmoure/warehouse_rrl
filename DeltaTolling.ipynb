{
 "cells": [
  {
   "cell_type": "markdown",
   "metadata": {},
   "source": [
    "## Delta-Tolling Demonstration\n",
    "Demonstration of scaling using local observation"
   ]
  },
  {
   "cell_type": "code",
   "execution_count": 1,
   "metadata": {},
   "outputs": [],
   "source": [
    "from warehouse_env.warehouse_env import WarehouseEnv\n",
    "import numpy as np\n",
    "\n",
    "num_agents = 40\n",
    "env_shape = (20,20)\n",
    "big_world = np.zeros(env_shape)\n",
    "big_agent = np.random.permutation([1] * num_agents + [0] * \n",
    "                                  (env_shape[0] * env_shape[0] - num_agents)).reshape(env_shape)\n",
    "big_env = WarehouseEnv(agent_map=np.array(big_agent), obstacle_map=np.array(big_world), \n",
    "                        local_obseration_size=(9,7), render_as_observation=True)"
   ]
  },
  {
   "cell_type": "code",
   "execution_count": 2,
   "metadata": {},
   "outputs": [
    {
     "data": {
      "image/png": "[encoded data removed]",
      "text/plain": [
       "<PIL.Image.Image image mode=RGBA size=800x800 at 0x7FA200A6EE48>"
      ]
     },
     "execution_count": 2,
     "metadata": {},
     "output_type": "execute_result"
    }
   ],
   "source": [
    "big_env.render(zoom_size=40, local=False)"
   ]
  },
  {
   "cell_type": "markdown",
   "metadata": {},
   "source": [
    "#### Global Delta-Tolling with Local A*"
   ]
  },
  {
   "cell_type": "code",
   "execution_count": 17,
   "metadata": {},
   "outputs": [],
   "source": [
    "from od_mstar3 import cpp_mstar\n",
    "import networkx as nx\n",
    "\n",
    "def get_next_action(env, env_graph, coordinated_planner=False):\n",
    "    if coordinated_planner:\n",
    "        states = [(v[0], v[1]) for k, v in env.agent_state.items()]\n",
    "        goals = [(v[0], v[1]) for k, v in env.agent_goal.items()]\n",
    "        path = None\n",
    "        start_x, start_y = None, None\n",
    "        next_x, next_y = None, None\n",
    "\n",
    "        try:\n",
    "            path = cpp_mstar.find_path(env.obstacle_map, states, goals, 10, 5 * 60.0)\n",
    "\n",
    "            start_x, start_y = env.agent_state[env.current_agent_id]\n",
    "            next_x, next_y = path[1][env.current_agent_id]   \n",
    "        except:\n",
    "            coordinated_planner = False\n",
    "\n",
    "    if not coordinated_planner:\n",
    "        location = env.agent_state[env.current_agent_id]\n",
    "        goal = env.agent_goal[env.current_agent_id]\n",
    "\n",
    "        path = nx.astar_path(env_graph, (location[0], location[1]), \n",
    "                             (goal[0], goal[1]), weight='weight')\n",
    "\n",
    "        action = None\n",
    "        start_x, start_y = path[0]\n",
    "        next_x, next_y = path[1]\n",
    "        \n",
    "    if (start_y + 1)  == next_y:\n",
    "        return_val = 0\n",
    "    elif (start_y - 1) == next_y:\n",
    "        return_val = 2\n",
    "    elif (start_x - 1) == next_x:\n",
    "        return_val = 1\n",
    "    elif (start_x + 1) == next_x:\n",
    "        return_val = 3\n",
    "    else:\n",
    "        return_val = 4\n",
    "    \n",
    "    return return_val"
   ]
  },
  {
   "cell_type": "code",
   "execution_count": 24,
   "metadata": {},
   "outputs": [],
   "source": [
    "#Run the env\n",
    "observation = big_env.reset()\n",
    "frames = []\n",
    "old_tolls = {}\n",
    "for t in range(1000):\n",
    "    frames.append(big_env.render(zoom_size=40, agent_id=None))\n",
    "    action = get_next_action(big_env, big_env.env_graph, coordinated_planner=False)\n",
    "    big_env.step(action)\n",
    "    old_tolls[t] = big_env.toll_map.copy()\n",
    "\n",
    "frames[0].save('gif/big_gym_animation_astar_1000.gif',\n",
    "               save_all=True, append_images=frames[1:], \n",
    "               optimize=False, duration=25, loop=0)"
   ]
  },
  {
   "cell_type": "markdown",
   "metadata": {},
   "source": [
    "#### Global Delta-Tolling with Local RL-Agent"
   ]
  },
  {
   "cell_type": "code",
   "execution_count": 26,
   "metadata": {},
   "outputs": [
    {
     "name": "stdout",
     "output_type": "stream",
     "text": [
      "Loading a model without an environment, this model cannot be trained until it has a valid environment.\n",
      "self.processed_obs Tensor(\"input/truediv:0\", shape=(?, 28, 36, 3), dtype=float32)\n",
      "entities: Tensor(\"model/Reshape:0\", shape=(?, 825, 64), dtype=float32)\n",
      "layerNorm_mean (?, 825, 1)\n",
      "MHDPA_output Tensor(\"model/MatMul_1:0\", shape=(?, 2, 825, 64), dtype=float32)\n",
      "residual_output Tensor(\"model/residualNet/Add:0\", shape=(?, 2, 825, 64), dtype=float32)\n",
      "maxpooling_output Tensor(\"model/Max:0\", shape=(?, 2, 64), dtype=float32)\n",
      "self.processed_obs Tensor(\"train_model/input/truediv:0\", shape=(?, 28, 36, 3), dtype=float32)\n",
      "entities: Tensor(\"train_model/model/Reshape:0\", shape=(?, 825, 64), dtype=float32)\n",
      "layerNorm_mean (?, 825, 1)\n",
      "MHDPA_output Tensor(\"train_model/model/MatMul_1:0\", shape=(?, 2, 825, 64), dtype=float32)\n",
      "residual_output Tensor(\"train_model/model/residualNet/Add:0\", shape=(?, 2, 825, 64), dtype=float32)\n",
      "maxpooling_output Tensor(\"train_model/model/Max:0\", shape=(?, 2, 64), dtype=float32)\n"
     ]
    }
   ],
   "source": [
    "from stable_baselines import A2C, A2CWithExperts\n",
    "\n",
    "model_file = \"/Users/pehuen/Downloads/log_14\"\n",
    "a2c_model = A2C.load(model_file + \"/model.zip\")"
   ]
  },
  {
   "cell_type": "code",
   "execution_count": 49,
   "metadata": {},
   "outputs": [],
   "source": [
    "from warehouse_env.warehouse_env import WarehouseEnv\n",
    "import numpy as np\n",
    "\n",
    "num_agents = 4\n",
    "env_shape = (20,20)\n",
    "big_world = np.zeros(env_shape)\n",
    "big_sparse_agent = np.random.permutation([1] * num_agents + [0] * \n",
    "                                  (env_shape[0] * env_shape[0] - num_agents)).reshape(env_shape)\n",
    "big_sparse_env = WarehouseEnv(agent_map=np.array(big_sparse_agent), obstacle_map=np.array(big_world), \n",
    "                        local_obseration_size=(9,7), render_as_observation=True)"
   ]
  },
  {
   "cell_type": "code",
   "execution_count": 50,
   "metadata": {},
   "outputs": [
    {
     "data": {
      "image/png": "[encoded data removed]",
      "text/plain": [
       "<PIL.Image.Image image mode=RGBA size=800x800 at 0x7FB321CE3780>"
      ]
     },
     "execution_count": 50,
     "metadata": {},
     "output_type": "execute_result"
    }
   ],
   "source": [
    "big_sparse_env.render(zoom_size=40, local=False)"
   ]
  },
  {
   "cell_type": "code",
   "execution_count": 52,
   "metadata": {},
   "outputs": [],
   "source": [
    "#Run the env\n",
    "obs = big_sparse_env.reset()\n",
    "frames = []\n",
    "episode_rewards = 0.0\n",
    "states = a2c_model.initial_state\n",
    "actions = []\n",
    "old_tolls = {}\n",
    "\n",
    "for t in range(1000):\n",
    "    frames.append(big_sparse_env.render(zoom_size=40, agent_id=None, local=False))\n",
    "    action, _states = a2c_model.predict(big_sparse_env._observe())#agent_id=0))\n",
    "    actions.append(action)\n",
    "    \n",
    "    obs, reward, done, info = big_sparse_env.step(action)#, agent_id=0)\n",
    "    \n",
    "    episode_rewards += reward\n",
    "\n",
    "    old_tolls[t] = big_sparse_env.toll_map.copy()\n",
    "\n",
    "frames[0].save('gif/big_sparse_gym_animation_relational_astar_1000.gif',\n",
    "               save_all=True, append_images=frames[1:], \n",
    "               optimize=False, duration=125, loop=0)"
   ]
  },
  {
   "cell_type": "code",
   "execution_count": 39,
   "metadata": {},
   "outputs": [],
   "source": [
    "#Run the env\n",
    "obs = big_env.reset()\n",
    "frames = []\n",
    "episode_rewards = 0.0\n",
    "states = a2c_model.initial_state\n",
    "actions = []\n",
    "old_tolls = {}\n",
    "\n",
    "for t in range(1000):\n",
    "    frames.append(big_env.render(zoom_size=40, agent_id=None, local=False))\n",
    "    action, _states = a2c_model.predict(big_env._observe())#agent_id=0))\n",
    "    actions.append(action)\n",
    "    \n",
    "    obs, reward, done, info = big_env.step(action)#, agent_id=0)\n",
    "    \n",
    "    episode_rewards += reward\n",
    "\n",
    "    old_tolls[t] = big_env.toll_map.copy()\n",
    "\n",
    "frames[0].save('gif/big_gym_animation_relational_astar_1000.gif',\n",
    "               save_all=True, append_images=frames[1::40], \n",
    "               optimize=False, duration=15, loop=0)"
   ]
  },
  {
   "cell_type": "markdown",
   "metadata": {},
   "source": [
    "### Large Congested Environment"
   ]
  },
  {
   "cell_type": "code",
   "execution_count": null,
   "metadata": {},
   "outputs": [],
   "source": []
  }
 ],
 "metadata": {
  "kernelspec": {
   "display_name": "primal2",
   "language": "python",
   "name": "primal2"
  },
  "language_info": {
   "codemirror_mode": {
    "name": "ipython",
    "version": 3
   },
   "file_extension": ".py",
   "mimetype": "text/x-python",
   "name": "python",
   "nbconvert_exporter": "python",
   "pygments_lexer": "ipython3",
   "version": "3.6.12"
  }
 },
 "nbformat": 4,
 "nbformat_minor": 4
}
